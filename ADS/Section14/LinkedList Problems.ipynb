{
 "cells": [
  {
   "cell_type": "markdown",
   "metadata": {},
   "source": [
    "# Linked List Problems"
   ]
  },
  {
   "cell_type": "markdown",
   "metadata": {},
   "source": [
    "## Single list Cycle Check"
   ]
  },
  {
   "cell_type": "code",
   "execution_count": 289,
   "metadata": {},
   "outputs": [],
   "source": [
    "class Node(object):\n",
    "    \n",
    "    def __init__(self, value):\n",
    "        \n",
    "        self.value = value\n",
    "        self.nextnode = None"
   ]
  },
  {
   "cell_type": "code",
   "execution_count": 290,
   "metadata": {},
   "outputs": [
    {
     "name": "stdout",
     "output_type": "stream",
     "text": [
      "<__main__.Node object at 0x0000023B7169FCF8>\n",
      "<__main__.Node object at 0x0000023B7169FC50>\n",
      "<__main__.Node object at 0x0000023B7169F5F8>\n",
      "<__main__.Node object at 0x0000023B7169F4E0>\n",
      "<__main__.Node object at 0x0000023B70501F60>\n"
     ]
    }
   ],
   "source": [
    "# CREATE CYCLE LIST\n",
    "a = Node(1)\n",
    "b = Node(2)\n",
    "c = Node(3)\n",
    "d = Node(4)\n",
    "e = Node(5)\n",
    "\n",
    "a.nextnode = b\n",
    "b.nextnode = c\n",
    "c.nextnode = d \n",
    "d.nextnode = e\n",
    "e.nextnode = a # Cycle Here!\n",
    "\n",
    "#CREATE NON CYCLE LIST\n",
    "x = Node(1)\n",
    "y = Node(2)\n",
    "z = Node(3)\n",
    "x.nextnode = y\n",
    "y.nextnode = z\n",
    "print(a)\n",
    "print(b)\n",
    "print(c)\n",
    "print(d)\n",
    "print(e)\n",
    "\n"
   ]
  },
  {
   "cell_type": "code",
   "execution_count": 291,
   "metadata": {},
   "outputs": [],
   "source": [
    "def cycle_check(node):\n",
    "    # a faster way would be to make 2 markers that traverse the list, one\n",
    "    # goes at double the speed. If they meet its true, if marker2\n",
    "    # reaches the end its false \n",
    "    onenextnode = node.nextnode\n",
    "    currentnode = node\n",
    "    print(\"onenextnode \", onenextnode)\n",
    "    print(\"currentnode \", currentnode)\n",
    "    print(\"currentnode next \", currentnode.nextnode)\n",
    "    print(\"\")\n",
    "    \n",
    "    while True:\n",
    "        currentnode = currentnode.nextnode\n",
    "        if currentnode.nextnode == None:\n",
    "            return False\n",
    "        elif currentnode.nextnode == onenextnode:\n",
    "            return True\n",
    "        else:\n",
    "            continue\n",
    "    \n",
    "        "
   ]
  },
  {
   "cell_type": "code",
   "execution_count": 293,
   "metadata": {},
   "outputs": [
    {
     "name": "stdout",
     "output_type": "stream",
     "text": [
      "onenextnode  <__main__.Node object at 0x0000023B7169FC50>\n",
      "currentnode  <__main__.Node object at 0x0000023B7169FCF8>\n",
      "currentnode next  <__main__.Node object at 0x0000023B7169FC50>\n",
      "\n"
     ]
    },
    {
     "data": {
      "text/plain": [
       "True"
      ]
     },
     "execution_count": 293,
     "metadata": {},
     "output_type": "execute_result"
    }
   ],
   "source": [
    "cycle_check(a)\n"
   ]
  },
  {
   "cell_type": "code",
   "execution_count": null,
   "metadata": {},
   "outputs": [],
   "source": [
    "\n",
    "\n"
   ]
  },
  {
   "cell_type": "code",
   "execution_count": null,
   "metadata": {},
   "outputs": [],
   "source": []
  }
 ],
 "metadata": {
  "kernelspec": {
   "display_name": "Python 3",
   "language": "python",
   "name": "python3"
  }
 },
 "nbformat": 4,
 "nbformat_minor": 2
}
