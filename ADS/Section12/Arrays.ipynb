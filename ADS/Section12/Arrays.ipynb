{
 "cells": [
  {
   "cell_type": "markdown",
   "metadata": {},
   "source": [
    "Python 3 main sequence class:\n",
    "    List [1,2,3]\n",
    "    Tuple (1,2,3)\n",
    "    String '123'\n"
   ]
  },
  {
   "cell_type": "code",
   "execution_count": null,
   "metadata": {},
   "outputs": [],
   "source": []
  },
  {
   "cell_type": "markdown",
   "metadata": {},
   "source": [
    "# Dynamic Arrays"
   ]
  },
  {
   "cell_type": "code",
   "execution_count": 64,
   "metadata": {},
   "outputs": [
    {
     "name": "stdout",
     "output_type": "stream",
     "text": [
      "Length:   0 \t Size in bytes:   64\n",
      "Length:   1 \t Size in bytes:   96\n",
      "Length:   2 \t Size in bytes:   96\n",
      "Length:   3 \t Size in bytes:   96\n",
      "Length:   4 \t Size in bytes:   96\n",
      "Length:   5 \t Size in bytes:  128\n",
      "Length:   6 \t Size in bytes:  128\n",
      "Length:   7 \t Size in bytes:  128\n",
      "Length:   8 \t Size in bytes:  128\n",
      "Length:   9 \t Size in bytes:  192\n",
      "Length:  10 \t Size in bytes:  192\n",
      "Length:  11 \t Size in bytes:  192\n",
      "Length:  12 \t Size in bytes:  192\n",
      "Length:  13 \t Size in bytes:  192\n",
      "Length:  14 \t Size in bytes:  192\n",
      "Length:  15 \t Size in bytes:  192\n",
      "Length:  16 \t Size in bytes:  192\n",
      "Length:  17 \t Size in bytes:  264\n",
      "Length:  18 \t Size in bytes:  264\n",
      "Length:  19 \t Size in bytes:  264\n",
      "Length:  20 \t Size in bytes:  264\n",
      "Length:  21 \t Size in bytes:  264\n",
      "Length:  22 \t Size in bytes:  264\n",
      "Length:  23 \t Size in bytes:  264\n",
      "Length:  24 \t Size in bytes:  264\n",
      "Length:  25 \t Size in bytes:  264\n",
      "Length:  26 \t Size in bytes:  344\n",
      "Length:  27 \t Size in bytes:  344\n",
      "Length:  28 \t Size in bytes:  344\n",
      "Length:  29 \t Size in bytes:  344\n",
      "Length:  30 \t Size in bytes:  344\n",
      "Length:  31 \t Size in bytes:  344\n",
      "Length:  32 \t Size in bytes:  344\n",
      "Length:  33 \t Size in bytes:  344\n",
      "Length:  34 \t Size in bytes:  344\n",
      "Length:  35 \t Size in bytes:  344\n",
      "Length:  36 \t Size in bytes:  432\n",
      "Length:  37 \t Size in bytes:  432\n",
      "Length:  38 \t Size in bytes:  432\n",
      "Length:  39 \t Size in bytes:  432\n",
      "Length:  40 \t Size in bytes:  432\n",
      "Length:  41 \t Size in bytes:  432\n",
      "Length:  42 \t Size in bytes:  432\n",
      "Length:  43 \t Size in bytes:  432\n",
      "Length:  44 \t Size in bytes:  432\n",
      "Length:  45 \t Size in bytes:  432\n",
      "Length:  46 \t Size in bytes:  432\n",
      "Length:  47 \t Size in bytes:  528\n",
      "Length:  48 \t Size in bytes:  528\n",
      "Length:  49 \t Size in bytes:  528\n",
      "Length:  50 \t Size in bytes:  528\n",
      "Length:  51 \t Size in bytes:  528\n",
      "Length:  52 \t Size in bytes:  528\n",
      "Length:  53 \t Size in bytes:  528\n",
      "Length:  54 \t Size in bytes:  528\n",
      "Length:  55 \t Size in bytes:  528\n",
      "Length:  56 \t Size in bytes:  528\n",
      "Length:  57 \t Size in bytes:  528\n",
      "Length:  58 \t Size in bytes:  528\n",
      "Length:  59 \t Size in bytes:  640\n",
      "Length:  60 \t Size in bytes:  640\n",
      "Length:  61 \t Size in bytes:  640\n",
      "Length:  62 \t Size in bytes:  640\n",
      "Length:  63 \t Size in bytes:  640\n",
      "Length:  64 \t Size in bytes:  640\n",
      "Length:  65 \t Size in bytes:  640\n",
      "Length:  66 \t Size in bytes:  640\n",
      "Length:  67 \t Size in bytes:  640\n",
      "Length:  68 \t Size in bytes:  640\n",
      "Length:  69 \t Size in bytes:  640\n",
      "Length:  70 \t Size in bytes:  640\n",
      "Length:  71 \t Size in bytes:  640\n",
      "Length:  72 \t Size in bytes:  640\n",
      "Length:  73 \t Size in bytes:  768\n",
      "Length:  74 \t Size in bytes:  768\n",
      "Length:  75 \t Size in bytes:  768\n",
      "Length:  76 \t Size in bytes:  768\n",
      "Length:  77 \t Size in bytes:  768\n",
      "Length:  78 \t Size in bytes:  768\n",
      "Length:  79 \t Size in bytes:  768\n",
      "Length:  80 \t Size in bytes:  768\n",
      "Length:  81 \t Size in bytes:  768\n",
      "Length:  82 \t Size in bytes:  768\n",
      "Length:  83 \t Size in bytes:  768\n",
      "Length:  84 \t Size in bytes:  768\n",
      "Length:  85 \t Size in bytes:  768\n",
      "Length:  86 \t Size in bytes:  768\n",
      "Length:  87 \t Size in bytes:  768\n",
      "Length:  88 \t Size in bytes:  768\n",
      "Length:  89 \t Size in bytes:  912\n",
      "Length:  90 \t Size in bytes:  912\n",
      "Length:  91 \t Size in bytes:  912\n",
      "Length:  92 \t Size in bytes:  912\n",
      "Length:  93 \t Size in bytes:  912\n",
      "Length:  94 \t Size in bytes:  912\n",
      "Length:  95 \t Size in bytes:  912\n",
      "Length:  96 \t Size in bytes:  912\n",
      "Length:  97 \t Size in bytes:  912\n",
      "Length:  98 \t Size in bytes:  912\n",
      "Length:  99 \t Size in bytes:  912\n"
     ]
    }
   ],
   "source": [
    "import sys #to check memory\n",
    "\n",
    "n = 100\n",
    "data = []\n",
    "\n",
    "for i in range(n):\n",
    "    a = len(data)\n",
    "    b = sys.getsizeof(data)\n",
    "    print(\"Length: {0:3d} \\t Size in bytes: {1:4d}\".format(a,b))\n",
    "    data.append(1000000)"
   ]
  },
  {
   "cell_type": "code",
   "execution_count": 57,
   "metadata": {},
   "outputs": [],
   "source": [
    "import ctypes\n",
    "\n",
    "class DynamicArray(object):\n",
    "    def __init__(self):\n",
    "        self.n = 0 #count no of elements\n",
    "        self.capacity = 1 # count capacity\n",
    "        self.A = self.make_array(self.capacity) #A is the actual array\n",
    "    \n",
    "    def __len__(self):\n",
    "        #returns no of elements sorted in array\n",
    "        return self.n\n",
    "    \n",
    "    def __getitem__(self, k):\n",
    "        #return elemeny at index k\n",
    "        if not 0<=k<self.n:\n",
    "            return IndexError('K is out of bounds mate')\n",
    "            #check if k index is in bounds of array\n",
    "        return self.A[k] #returns array, A\n",
    "\n",
    "    def append(self, element):\n",
    "        #add element to end of array\n",
    "        if self.n==self.capacity:\n",
    "            self._resize(2*self.capacity) #double capacity if not enough\n",
    "        self.A[self.n]=element #set self.n (final index) to element\n",
    "        self.n += 1 #increase the final index\n",
    "    \n",
    "    def _resize(self, new_cap):\n",
    "        #resize internal array\n",
    "        B = self.make_array(new_cap)\n",
    "        for k in range(self.n):\n",
    "            B[k] = self.A[k] #go through A elements and assign to B\n",
    "        self.A = B # make B the new A\n",
    "        self.capacity = new_cap #reset capacity to indicate new value\n",
    "    \n",
    "    def make_array(self, new_cap):\n",
    "        #returns array with new capacity \n",
    "        return (new_cap*ctypes.py_object)()"
   ]
  },
  {
   "cell_type": "code",
   "execution_count": 58,
   "metadata": {},
   "outputs": [],
   "source": [
    "arr = DynamicArray()"
   ]
  },
  {
   "cell_type": "code",
   "execution_count": 59,
   "metadata": {},
   "outputs": [],
   "source": [
    "arr.append(1)"
   ]
  },
  {
   "cell_type": "code",
   "execution_count": 60,
   "metadata": {},
   "outputs": [
    {
     "data": {
      "text/plain": [
       "1"
      ]
     },
     "execution_count": 60,
     "metadata": {},
     "output_type": "execute_result"
    }
   ],
   "source": [
    "len(arr)"
   ]
  },
  {
   "cell_type": "code",
   "execution_count": 45,
   "metadata": {},
   "outputs": [],
   "source": [
    "arr.append(2)"
   ]
  },
  {
   "cell_type": "code",
   "execution_count": 46,
   "metadata": {},
   "outputs": [
    {
     "data": {
      "text/plain": [
       "2"
      ]
     },
     "execution_count": 46,
     "metadata": {},
     "output_type": "execute_result"
    }
   ],
   "source": [
    "len(arr)"
   ]
  },
  {
   "cell_type": "code",
   "execution_count": 47,
   "metadata": {},
   "outputs": [
    {
     "data": {
      "text/plain": [
       "2"
      ]
     },
     "execution_count": 47,
     "metadata": {},
     "output_type": "execute_result"
    }
   ],
   "source": [
    "arr[1]"
   ]
  },
  {
   "cell_type": "code",
   "execution_count": 61,
   "metadata": {},
   "outputs": [
    {
     "data": {
      "text/plain": [
       "1"
      ]
     },
     "execution_count": 61,
     "metadata": {},
     "output_type": "execute_result"
    }
   ],
   "source": [
    "arr[0]"
   ]
  },
  {
   "cell_type": "code",
   "execution_count": 63,
   "metadata": {},
   "outputs": [
    {
     "name": "stdout",
     "output_type": "stream",
     "text": [
      "Length:  33 \t Size in bytes:   56\n",
      "Length:  34 \t Size in bytes:   56\n",
      "Length:  35 \t Size in bytes:   56\n",
      "Length:  36 \t Size in bytes:   56\n",
      "Length:  37 \t Size in bytes:   56\n",
      "Length:  38 \t Size in bytes:   56\n",
      "Length:  39 \t Size in bytes:   56\n",
      "Length:  40 \t Size in bytes:   56\n",
      "Length:  41 \t Size in bytes:   56\n",
      "Length:  42 \t Size in bytes:   56\n",
      "Length:  43 \t Size in bytes:   56\n",
      "Length:  44 \t Size in bytes:   56\n",
      "Length:  45 \t Size in bytes:   56\n",
      "Length:  46 \t Size in bytes:   56\n",
      "Length:  47 \t Size in bytes:   56\n",
      "Length:  48 \t Size in bytes:   56\n",
      "Length:  49 \t Size in bytes:   56\n",
      "Length:  50 \t Size in bytes:   56\n",
      "Length:  51 \t Size in bytes:   56\n",
      "Length:  52 \t Size in bytes:   56\n",
      "Length:  53 \t Size in bytes:   56\n",
      "Length:  54 \t Size in bytes:   56\n",
      "Length:  55 \t Size in bytes:   56\n",
      "Length:  56 \t Size in bytes:   56\n",
      "Length:  57 \t Size in bytes:   56\n",
      "Length:  58 \t Size in bytes:   56\n",
      "Length:  59 \t Size in bytes:   56\n",
      "Length:  60 \t Size in bytes:   56\n",
      "Length:  61 \t Size in bytes:   56\n",
      "Length:  62 \t Size in bytes:   56\n",
      "Length:  63 \t Size in bytes:   56\n",
      "Length:  64 \t Size in bytes:   56\n"
     ]
    }
   ],
   "source": [
    "for j in range(n):\n",
    "    a = len(arr)\n",
    "    b = sys.getsizeof(arr)\n",
    "    print(\"Length: {0:3d} \\t Size in bytes: {1:4d}\".format(a,b))\n",
    "    arr.append(n)"
   ]
  },
  {
   "cell_type": "code",
   "execution_count": null,
   "metadata": {},
   "outputs": [],
   "source": []
  }
 ],
 "metadata": {
  "kernelspec": {
   "display_name": "Python 3",
   "language": "python",
   "name": "python3"
  },
  "language_info": {
   "codemirror_mode": {
    "name": "ipython",
    "version": 3
   },
   "file_extension": ".py",
   "mimetype": "text/x-python",
   "name": "python",
   "nbconvert_exporter": "python",
   "pygments_lexer": "ipython3",
   "version": "3.7.3"
  }
 },
 "nbformat": 4,
 "nbformat_minor": 2
}
