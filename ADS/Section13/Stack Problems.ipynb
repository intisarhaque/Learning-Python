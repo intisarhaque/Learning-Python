{
 "cells": [
  {
   "cell_type": "markdown",
   "metadata": {},
   "source": [
    "# Stack Problems"
   ]
  },
  {
   "cell_type": "markdown",
   "metadata": {},
   "source": [
    "## Balanced Parantheses"
   ]
  },
  {
   "cell_type": "code",
   "execution_count": 3,
   "metadata": {},
   "outputs": [],
   "source": [
    "class Deque(object):\n",
    "    def __init__(self):\n",
    "        self.items = []\n",
    "    def isEmpty(self):\n",
    "        return self.items==[]\n",
    "    def addFront(self, item):\n",
    "        self.items.append(item)\n",
    "    def addRear(self, item):\n",
    "        self.items.insert(0, item)\n",
    "    def removeFront(self):\n",
    "        return self.items.pop()\n",
    "    def removeRear(self):\n",
    "        return self.items.pop(0)\n",
    "    def size(self):\n",
    "        return len(self.items)"
   ]
  },
  {
   "cell_type": "code",
   "execution_count": 129,
   "metadata": {},
   "outputs": [],
   "source": [
    "# def balanced_check(s):\n",
    "#     brackets = {\"(\": \")\", \"{\": \"}\", \"[\": \"]\"}\n",
    "#     print(brackets)\n",
    "#     leng = len(s)\n",
    "#     if leng%2 != 0 or leng==0:\n",
    "#         return False\n",
    "#     checker = Deque()\n",
    "#     for char in s:\n",
    "#         checker.addFront(char)\n",
    "#     print(\"hmm\")\n",
    "#     print(checker.size())\n",
    "#     while checker.size() != 0:\n",
    "#         a = checker.removeFront()\n",
    "#         b = checker.removeRear()\n",
    "#         if b not in brackets.keys() or a not in brackets.values():\n",
    "#             return False\n",
    "#         if a==brackets.get(b):\n",
    "#             continue\n",
    "#         else:\n",
    "#             return False\n",
    "#     print(checker.size())\n",
    "#     return True\n",
    "    \n",
    "def balanced_check(s):\n",
    "    brackets = {\"(\": \")\", \"{\": \"}\", \"[\": \"]\"}\n",
    "    s = list(s)\n",
    "    leng = len(s)\n",
    "    if leng%2 != 0 or leng==0 or s[0] in brackets.values() or s[-1] in brackets.keys():\n",
    "        return False\n",
    "    for i in range(0,leng//2):\n",
    "        if s[i] in brackets.values():\n",
    "            if s[i-1] in brackets.keys():\n",
    "                s.pop(i-1)\n",
    "                s.pop(i-1)\n",
    "                continue\n",
    "            else:\n",
    "                return False\n",
    "        else:continue\n",
    "    return True\n",
    "    "
   ]
  },
  {
   "cell_type": "code",
   "execution_count": 130,
   "metadata": {},
   "outputs": [
    {
     "data": {
      "text/plain": [
       "False"
      ]
     },
     "execution_count": 130,
     "metadata": {},
     "output_type": "execute_result"
    }
   ],
   "source": [
    "balanced_check(\" ()(){]}\")\n"
   ]
  },
  {
   "cell_type": "code",
   "execution_count": 136,
   "metadata": {},
   "outputs": [],
   "source": [
    "def balanced_check(s):\n",
    "    #ideal way to implement\n",
    "    chars = []\n",
    "    matches = {')':'(',']':'[','}':'{'}\n",
    "    for c in s:\n",
    "        if c in matches:\n",
    "            if chars.pop() != matches[c]:\n",
    "                return False\n",
    "        else:\n",
    "            chars.append(c)\n",
    "    return chars == []        \n",
    "    pass"
   ]
  },
  {
   "cell_type": "code",
   "execution_count": 137,
   "metadata": {},
   "outputs": [
    {
     "data": {
      "text/plain": [
       "False"
      ]
     },
     "execution_count": 137,
     "metadata": {},
     "output_type": "execute_result"
    }
   ],
   "source": [
    "\n",
    "balanced_check('([])(){}')"
   ]
  },
  {
   "cell_type": "code",
   "execution_count": 133,
   "metadata": {},
   "outputs": [],
   "source": [
    "lol = {\"a\": 1, \"b\":2, \"c\":3}"
   ]
  },
  {
   "cell_type": "code",
   "execution_count": 134,
   "metadata": {},
   "outputs": [
    {
     "name": "stdout",
     "output_type": "stream",
     "text": [
      "a\n",
      "b\n",
      "c\n"
     ]
    }
   ],
   "source": [
    "a = (1,2,3)\n",
    "for i in a:\n",
    "    if i in lol:\n",
    "        print(i)\n",
    "b = (\"a\",\"b\",\"c\")\n",
    "for i in b:\n",
    "    if i in lol:\n",
    "        print(i)"
   ]
  },
  {
   "cell_type": "code",
   "execution_count": 135,
   "metadata": {},
   "outputs": [
    {
     "data": {
      "text/plain": [
       "3"
      ]
     },
     "execution_count": 135,
     "metadata": {},
     "output_type": "execute_result"
    }
   ],
   "source": [
    "k = [1,2,3,4,5]\n",
    "k.pop(1)\n",
    "k.pop(1)"
   ]
  },
  {
   "cell_type": "code",
   "execution_count": null,
   "metadata": {},
   "outputs": [],
   "source": []
  },
  {
   "cell_type": "markdown",
   "metadata": {},
   "source": [
    "# Queue from 2 stacks"
   ]
  },
  {
   "cell_type": "code",
   "execution_count": 280,
   "metadata": {},
   "outputs": [],
   "source": [
    "class Queue2(object):\n",
    "    def __init__(self):\n",
    "        self.stack1 = []\n",
    "        self.stack2 = []\n",
    "    \n",
    "    def enqueue(self, element):\n",
    "        while len(self.stack1)>0:\n",
    "            self.stack2.append(self.stack1.pop())\n",
    "        self.stack1.append(element)\n",
    "        while len(self.stack2)>0:\n",
    "            self.stack1.append(self.stack2.pop())\n",
    "        \n",
    "            \n",
    "\n",
    "    def printt(self):\n",
    "        for i in self.stack1:\n",
    "            print(\"stack\", i)\n",
    "        pass\n",
    "    def dequeue(self):\n",
    "        return self.stack1.pop()\n"
   ]
  },
  {
   "cell_type": "code",
   "execution_count": 281,
   "metadata": {},
   "outputs": [
    {
     "name": "stdout",
     "output_type": "stream",
     "text": [
      "stack 3\n",
      "stack 2\n",
      "stack 1\n",
      "stack 0\n",
      "0\n",
      "1\n",
      "2\n",
      "3\n"
     ]
    }
   ],
   "source": [
    "q = Queue2()\n",
    "for i in range(0,4):\n",
    "    q.enqueue(i)\n",
    "    \n",
    "q.printt()\n",
    "for i in range(0,4):\n",
    "    print(q.dequeue())"
   ]
  },
  {
   "cell_type": "code",
   "execution_count": null,
   "metadata": {},
   "outputs": [],
   "source": []
  },
  {
   "cell_type": "code",
   "execution_count": null,
   "metadata": {},
   "outputs": [],
   "source": []
  }
 ],
 "metadata": {
  "kernelspec": {
   "display_name": "Python 3",
   "language": "python",
   "name": "python3"
  },
  "language_info": {
   "codemirror_mode": {
    "name": "ipython",
    "version": 3
   },
   "file_extension": ".py",
   "mimetype": "text/x-python",
   "name": "python",
   "nbconvert_exporter": "python",
   "pygments_lexer": "ipython3",
   "version": "3.7.3"
  }
 },
 "nbformat": 4,
 "nbformat_minor": 2
}
