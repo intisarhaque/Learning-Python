{
 "cells": [
  {
   "cell_type": "markdown",
   "metadata": {},
   "source": [
    "# Array interview problems"
   ]
  },
  {
   "cell_type": "markdown",
   "metadata": {},
   "source": [
    "## Anagram "
   ]
  },
  {
   "cell_type": "markdown",
   "metadata": {},
   "source": [
    "#given 2 strings, check to see if they are anagrams (ignoring spaces and capitals)\n"
   ]
  },
  {
   "cell_type": "code",
   "execution_count": 144,
   "metadata": {},
   "outputs": [],
   "source": [
    "def isAnagram(word1, word2):\n",
    "    word1 = word1.replace(\" \",\"\").lower()\n",
    "    word2 = word2.replace(\" \",\"\").lower()\n",
    "    print(word1, word2)\n",
    "    if len(word1) != len(word2):\n",
    "        return False\n",
    "    charBank1 = {}\n",
    "    charBank2 = {}\n",
    "    for i in word1:\n",
    "        if i in charBank1:\n",
    "            charBank1[i]+=1\n",
    "        else:\n",
    "            charBank1[i]=1\n",
    "    for i in word2:\n",
    "        if i in charBank2:\n",
    "            charBank2[i]+=1\n",
    "        else:\n",
    "            charBank2[i]=1\n",
    "    \n",
    "    if charBank1 == charBank2:\n",
    "        return True\n",
    "    else:\n",
    "        return False\n",
    "    \n",
    "    #another way would be to use one charBank, and for word2 iteration, \n",
    "    #if char exists then charBank1[i] -=1.\n",
    "    #if char does not exist then you can return False\n",
    "    #at the end all of charBank1.values should be 0.\n",
    "    print(charBank1)\n",
    "    print(charBank2)\n",
    "    \n",
    "#     print(word1)\n",
    "#     print(word2)"
   ]
  },
  {
   "cell_type": "code",
   "execution_count": 143,
   "metadata": {},
   "outputs": [
    {
     "name": "stdout",
     "output_type": "stream",
     "text": [
      "johnnydepp penphonydj\n"
     ]
    },
    {
     "data": {
      "text/plain": [
       "True"
      ]
     },
     "execution_count": 143,
     "metadata": {},
     "output_type": "execute_result"
    }
   ],
   "source": [
    "isAnagram(\"Johnny Depp\", \"Pen phony DJ\")\n"
   ]
  },
  {
   "cell_type": "code",
   "execution_count": 78,
   "metadata": {},
   "outputs": [
    {
     "name": "stdout",
     "output_type": "stream",
     "text": [
      "{'A': 2, 'B': 0, 'C': 3}\n"
     ]
    }
   ],
   "source": [
    "Dicts = {'A': 2, 'B':0, 'C': 3}\n",
    "print(Dicts)"
   ]
  },
  {
   "cell_type": "code",
   "execution_count": 85,
   "metadata": {},
   "outputs": [
    {
     "name": "stdout",
     "output_type": "stream",
     "text": [
      "2\n",
      "0\n",
      "3\n"
     ]
    }
   ],
   "source": [
    "for i in Dicts:\n",
    "    print(Dicts[i])"
   ]
  },
  {
   "cell_type": "code",
   "execution_count": 91,
   "metadata": {},
   "outputs": [
    {
     "name": "stdout",
     "output_type": "stream",
     "text": [
      "ooh\n"
     ]
    }
   ],
   "source": [
    "if 'D' in Dicts:\n",
    "    print(\"ooh\")\n",
    "else:\n",
    "    Dicts['D'] = 1"
   ]
  },
  {
   "cell_type": "code",
   "execution_count": 92,
   "metadata": {},
   "outputs": [
    {
     "name": "stdout",
     "output_type": "stream",
     "text": [
      "{'A': 2, 'B': 0, 'C': 3, 'D': 1}\n"
     ]
    }
   ],
   "source": [
    "print(Dicts)"
   ]
  },
  {
   "cell_type": "code",
   "execution_count": 99,
   "metadata": {},
   "outputs": [],
   "source": [
    "Deects = {'B': 1, 'A':2, 'C': 3, 'D': 1}"
   ]
  },
  {
   "cell_type": "code",
   "execution_count": 100,
   "metadata": {},
   "outputs": [
    {
     "name": "stdout",
     "output_type": "stream",
     "text": [
      "False\n"
     ]
    }
   ],
   "source": [
    "print(Dicts==Deects)"
   ]
  },
  {
   "cell_type": "code",
   "execution_count": 105,
   "metadata": {},
   "outputs": [],
   "source": [
    "Deects['B'] +=1"
   ]
  },
  {
   "cell_type": "code",
   "execution_count": 106,
   "metadata": {},
   "outputs": [
    {
     "name": "stdout",
     "output_type": "stream",
     "text": [
      "{'B': 2, 'A': 2, 'C': 3, 'D': 1}\n"
     ]
    }
   ],
   "source": [
    "print(Deects)"
   ]
  },
  {
   "cell_type": "code",
   "execution_count": 131,
   "metadata": {},
   "outputs": [],
   "source": [
    "Deects.update({'B': 4, 'E': 3})"
   ]
  },
  {
   "cell_type": "code",
   "execution_count": 132,
   "metadata": {},
   "outputs": [
    {
     "name": "stdout",
     "output_type": "stream",
     "text": [
      "{'B': 4, 'A': 2, 'C': 3, 'D': 1, 'E': 3}\n"
     ]
    }
   ],
   "source": [
    "print(Deects)"
   ]
  },
  {
   "cell_type": "markdown",
   "metadata": {},
   "source": [
    "## Array Pair Sum"
   ]
  },
  {
   "cell_type": "code",
   "execution_count": 192,
   "metadata": {},
   "outputs": [],
   "source": [
    "def pairSum(numArr, sum):\n",
    "    ourList = set()\n",
    "    for a1 in numArr:\n",
    "        a2 = sum- a1\n",
    "        if a2 in numArr:\n",
    "            ourList.add((min(a1,a2),max(a1,a2)))\n",
    "    return len(ourList)\n",
    "        "
   ]
  },
  {
   "cell_type": "code",
   "execution_count": 193,
   "metadata": {},
   "outputs": [
    {
     "data": {
      "text/plain": [
       "2"
      ]
     },
     "execution_count": 193,
     "metadata": {},
     "output_type": "execute_result"
    }
   ],
   "source": [
    "pairSum([1,3,2,2,2,1,3],4)\n"
   ]
  },
  {
   "cell_type": "code",
   "execution_count": null,
   "metadata": {},
   "outputs": [],
   "source": []
  },
  {
   "cell_type": "code",
   "execution_count": 194,
   "metadata": {},
   "outputs": [
    {
     "name": "stdout",
     "output_type": "stream",
     "text": [
      "{2, 3, 200, 201, 43, 11, (2, 5), (2, 4)}\n",
      "{2, 3, 7, 200, 201, 9, 43, 11, 8, 54, 22, (2, 5), (2, 4)}\n",
      "{7, 200, 201, 9, 43, 11, 8, 54, 22, (2, 5), (2, 4)}\n"
     ]
    }
   ],
   "source": [
    "#sets are very useful for comparisons. like a list but without duplicates.\n",
    "#lol = set()  -------- can't do lol={} because that's a dictionary\n",
    "#to look for something - O(n) in list; O(1) in set\n",
    "lol = {11,43}\n",
    "lol.add( (min(2,5), max(2,5)))\n",
    "lol.add(3)\n",
    "lol.add(2)\n",
    "lol.add(200)\n",
    "lol.add((2,4))\n",
    "lol.add((2,4))\n",
    "lol.add(201)\n",
    "print(lol)\n",
    "lol.update([9,7,8])\n",
    "lols = {9, 22, 54}\n",
    "lol.update(lols)\n",
    "print(lol)\n",
    "lol.discard(2)\n",
    "lol.remove(3) #if num not there then throws an error\n",
    "print(lol)"
   ]
  },
  {
   "cell_type": "code",
   "execution_count": 195,
   "metadata": {},
   "outputs": [
    {
     "name": "stdout",
     "output_type": "stream",
     "text": [
      "{3}\n",
      "{1} {4} {1, 4}\n",
      "[1, 2, 3, 4, 5]\n"
     ]
    }
   ],
   "source": [
    "a = {1,2,3}\n",
    "b = {2,3,4}\n",
    "c = {3,4,5}\n",
    "\n",
    "d = a.intersection(b,c) #and\n",
    "print(d)\n",
    "\n",
    "e = a.difference(b) #what's in a and not b \n",
    "f = b.difference(a)\n",
    "g = a.symmetric_difference(b)\n",
    "print(e,f,g)\n",
    "\n",
    "#remove duplicates from list\n",
    "lista = [1,2,3,4,5,5,2]\n",
    "listb = list(set(lista))\n",
    "print(listb)"
   ]
  },
  {
   "cell_type": "code",
   "execution_count": null,
   "metadata": {},
   "outputs": [],
   "source": []
  },
  {
   "cell_type": "markdown",
   "metadata": {},
   "source": [
    "## Missing Element\n"
   ]
  },
  {
   "cell_type": "code",
   "execution_count": 44,
   "metadata": {},
   "outputs": [],
   "source": [
    "def missing(arra, arrb):\n",
    "    for i in arrb:\n",
    "        if i in arra:\n",
    "            del(arra[arra.index(i)])\n",
    "    return(arra[0])"
   ]
  },
  {
   "cell_type": "code",
   "execution_count": 45,
   "metadata": {},
   "outputs": [
    {
     "name": "stdout",
     "output_type": "stream",
     "text": [
      "5\n",
      "mhm\n",
      "8\n",
      "hmm\n",
      "6\n"
     ]
    }
   ],
   "source": [
    "print(missing([1,2,3,4,5,6,7],[1,2,3,4,6,7]))\n",
    "print(\"mhm\")\n",
    "print(missing([5,5,7,7,8],[5,7,5,7]))\n",
    "print(\"hmm\")\n",
    "print(missing([9,8,7,6,5,4,3,2,1],[9,8,7,5,4,3,2,1]))"
   ]
  },
  {
   "cell_type": "code",
   "execution_count": 49,
   "metadata": {},
   "outputs": [
    {
     "name": "stdout",
     "output_type": "stream",
     "text": [
      "<zip object at 0x000001EB6BA4DB08>\n"
     ]
    }
   ],
   "source": [
    "a = zip([1,2,3],[4,5,6])\n",
    "print(a)"
   ]
  },
  {
   "cell_type": "code",
   "execution_count": 50,
   "metadata": {},
   "outputs": [],
   "source": [
    "arr1 = [1,2,3,4,5,6,7]\n",
    "arr2 = [3,7,2,1,4,6]"
   ]
  },
  {
   "cell_type": "code",
   "execution_count": 65,
   "metadata": {},
   "outputs": [],
   "source": [
    "arr1.sort()\n",
    "arr2.sort()\n",
    "for num1, num2 in zip(arr1,arr2):\n",
    "    #print(num1, \"g\", num2)\n",
    "    if num1 != num2:\n",
    "        print(num1)"
   ]
  },
  {
   "cell_type": "markdown",
   "metadata": {},
   "source": [
    "## Largest Continuous Sum\n"
   ]
  },
  {
   "cell_type": "code",
   "execution_count": 378,
   "metadata": {},
   "outputs": [],
   "source": [
    "def largestsum(arr):\n",
    "    #kadanes\n",
    "    \n",
    "    maxi = curr = arr[0]\n",
    "    for i in arr[1:]:\n",
    "        curr = max(curr+i, i)\n",
    "        maxi = max(curr, maxi)\n",
    "    return maxi\n",
    "    \n",
    "#     sumold=-1000000000000000000000000\n",
    "#     sumnew=0\n",
    "#     length = len(arr)\n",
    "#    # for h in range(0,length):\n",
    "#     for h, val in enumerate(arr):\n",
    "#         print(\"h\", h, \"val\", val)\n",
    "#         for i in range(length,0,-1):\n",
    "#             for j in range(h,i):\n",
    "#                 sumnew +=arr[j]\n",
    "#                 #print (arr[j])\n",
    "#             print(\"sumnew\", sumnew, \"\\t sumold\", sumold)\n",
    "#             if sumnew>sumold:\n",
    "#                 sumold=sumnew\n",
    "#             print(\"sumold\",sumold)\n",
    "#             sumnew=0\n",
    "\n",
    "#     #print(\"sumoid\", sumold)\n",
    "    \n"
   ]
  },
  {
   "cell_type": "code",
   "execution_count": 379,
   "metadata": {
    "scrolled": false
   },
   "outputs": [
    {
     "data": {
      "text/plain": [
       "-1"
      ]
     },
     "execution_count": 379,
     "metadata": {},
     "output_type": "execute_result"
    }
   ],
   "source": [
    "largestsum([-1,-1])\n",
    "\n"
   ]
  },
  {
   "cell_type": "markdown",
   "metadata": {},
   "source": [
    "## Sentence Reversal"
   ]
  },
  {
   "cell_type": "code",
   "execution_count": 114,
   "metadata": {},
   "outputs": [],
   "source": [
    "def reversal(word1):\n",
    "    wordlist = ()\n",
    "    wordlisttemp = (\"\")\n",
    "    word1 = word1.strip()\n",
    "    print(\"word 1 is\", word1)\n",
    "    print(word1[-1])\n",
    "    count = 0\n",
    "    while True:\n",
    "        for chara in word1:\n",
    "            #print(\"chara is \", chara)\n",
    "            if chara !=\" \":\n",
    "                wordlisttemp = wordlisttemp + chara\n",
    "            elif chara ==\" \":\n",
    "                wordlist = list(wordlist)\n",
    "                wordlist.append(wordlisttemp)\n",
    "                wordlist = tuple(wordlist)\n",
    "                #print(\"wordlist \",wordlist)\n",
    "                #print(\"wordlisttemp \", wordlisttemp)\n",
    "                wordlisttemp = (\"\")\n",
    "        wordlist = list(wordlist)\n",
    "        wordlist.append(wordlisttemp)\n",
    "        wordlist = tuple(wordlist)\n",
    "                                \n",
    "        break\n",
    "    print(\"word list \", wordlist)\n",
    "    wordlist = wordlist[::-1]\n",
    "    print(\"new word list \", wordlist)\n",
    "\n",
    "    return wordlist\n",
    "    \n",
    "#     for i in range(len(wordlist)-1, 0, -1):\n",
    "#         print(wordlist[i])\n"
   ]
  },
  {
   "cell_type": "code",
   "execution_count": 115,
   "metadata": {},
   "outputs": [
    {
     "name": "stdout",
     "output_type": "stream",
     "text": [
      "word 1 is yo i am\n",
      "m\n",
      "word list  ('yo', 'i', 'am')\n",
      "new word list  ('am', 'i', 'yo')\n"
     ]
    },
    {
     "data": {
      "text/plain": [
       "('am', 'i', 'yo')"
      ]
     },
     "execution_count": 115,
     "metadata": {},
     "output_type": "execute_result"
    }
   ],
   "source": [
    "reversal(\"   yo i am  \")"
   ]
  },
  {
   "cell_type": "markdown",
   "metadata": {},
   "source": [
    "# Unique String Compression"
   ]
  },
  {
   "cell_type": "code",
   "execution_count": 82,
   "metadata": {},
   "outputs": [],
   "source": [
    "def compressor(s):\n",
    "    #complexity O(n^2)\n",
    "\n",
    "    \n",
    "    chars = {}\n",
    "    returnS = \"\"\n",
    "    for i in range(len(s)):\n",
    "        #print(i)\n",
    "        tempchar = s[i]\n",
    "        #print(tempchar, \"\\t tempchar\")\n",
    "        if tempchar in chars:\n",
    "            chars[tempchar] +=1\n",
    "        else:\n",
    "            chars[tempchar] = 1\n",
    "    print(chars)\n",
    "    for i in chars.keys():\n",
    "        returnS +=i\n",
    "        returnS +=str(chars[i])\n",
    "    print(returnS)"
   ]
  },
  {
   "cell_type": "code",
   "execution_count": 83,
   "metadata": {},
   "outputs": [
    {
     "name": "stdout",
     "output_type": "stream",
     "text": [
      "{'A': 3, 'B': 1, 'C': 2, 'D': 5}\n",
      "A3B1C2D5\n",
      "{'A': 1}\n",
      "A1\n"
     ]
    }
   ],
   "source": [
    "compressor(\"AAABCCDDDDD\")\n",
    "compressor(\"A\")"
   ]
  },
  {
   "cell_type": "code",
   "execution_count": 111,
   "metadata": {},
   "outputs": [],
   "source": [
    "def bettercompressor(s):\n",
    "    #complexity O(n)\n",
    "    ##edge cases\n",
    "    if len(s) == 0:\n",
    "        return \"\"\n",
    "    if len(s) == 1:\n",
    "        return s+\"1\"\n",
    "\n",
    "    returnstring = \"\"\n",
    "    count = 1\n",
    "    i = 1\n",
    "    \n",
    "    while i < len(s):\n",
    "        print(i)\n",
    "        if s[i] == s[i-1]:\n",
    "            count +=1\n",
    "        else:\n",
    "            returnstring += s[i-1] + str(count)\n",
    "            count = 1\n",
    "        i +=1\n",
    "    returnstring += s[i-1] + str(count)\n",
    "    return(returnstring)\n",
    "    \n",
    "    "
   ]
  },
  {
   "cell_type": "code",
   "execution_count": 112,
   "metadata": {},
   "outputs": [
    {
     "name": "stdout",
     "output_type": "stream",
     "text": [
      "1\n",
      "2\n",
      "3\n",
      "4\n",
      "5\n",
      "6\n",
      "A2B2C1c1E1\n",
      "a1\n"
     ]
    }
   ],
   "source": [
    "print(bettercompressor(\"AABBCcE\"))\n",
    "\n",
    "print(bettercompressor(\"a\"))\n"
   ]
  },
  {
   "cell_type": "markdown",
   "metadata": {},
   "source": [
    "# Unique Characters"
   ]
  },
  {
   "cell_type": "code",
   "execution_count": 126,
   "metadata": {},
   "outputs": [],
   "source": [
    "def uniqueBool(s):\n",
    "    n = \"\" #better to use set like n = set()\n",
    "    for char in s:\n",
    "        if char in n:\n",
    "            return False\n",
    "        else:\n",
    "            n +=char\n",
    "    return True\n",
    "    #return len(set(s)) == len(s)"
   ]
  },
  {
   "cell_type": "code",
   "execution_count": 127,
   "metadata": {},
   "outputs": [
    {
     "data": {
      "text/plain": [
       "True"
      ]
     },
     "execution_count": 127,
     "metadata": {},
     "output_type": "execute_result"
    }
   ],
   "source": [
    "uniqueBool(\"abcdefg\")"
   ]
  },
  {
   "cell_type": "code",
   "execution_count": 15,
   "metadata": {},
   "outputs": [],
   "source": [
    "def duplicate_characters(input):\n",
    "        # Your code goes here\n",
    "        print(\"input is\", input)\n",
    "        dicts = {}\n",
    "        for c in input:\n",
    "            if c not in dicts.keys():\n",
    "                dicts[c] = 1\n",
    "            else:\n",
    "                dicts[c] +=1\n",
    "        print(dicts)\n",
    "        count = 0\n",
    "        for i in dicts.values():\n",
    "            if i>1:\n",
    "                count +=1\n",
    "        return count\n",
    "        "
   ]
  },
  {
   "cell_type": "code",
   "execution_count": 16,
   "metadata": {},
   "outputs": [
    {
     "name": "stdout",
     "output_type": "stream",
     "text": [
      "input is Aasdefsgh!!!\n",
      "{'A': 1, 'a': 1, 's': 2, 'd': 1, 'e': 1, 'f': 1, 'g': 1, 'h': 1, '!': 3}\n"
     ]
    },
    {
     "data": {
      "text/plain": [
       "2"
      ]
     },
     "execution_count": 16,
     "metadata": {},
     "output_type": "execute_result"
    }
   ],
   "source": [
    "duplicate_characters(\"Aasdefsgh!!!\")"
   ]
  },
  {
   "cell_type": "code",
   "execution_count": 64,
   "metadata": {},
   "outputs": [],
   "source": [
    "def second_highest_digit(input):\n",
    "    nums = []\n",
    "    for c in input:\n",
    "        if c.isdigit():\n",
    "            nums.append(c)\n",
    "            #print(c, \" yes\")\n",
    "    if len(nums)<2:\n",
    "        return -1\n",
    "    nums.sort()\n",
    "    print(nums)\n",
    "    nums[-2] = \"g3\"\n",
    "    return nums[-2]\n"
   ]
  },
  {
   "cell_type": "code",
   "execution_count": 65,
   "metadata": {},
   "outputs": [
    {
     "name": "stdout",
     "output_type": "stream",
     "text": [
      "['3', '3', '3', '4', '4', '4', '4']\n"
     ]
    },
    {
     "data": {
      "text/plain": [
       "'g3'"
      ]
     },
     "execution_count": 65,
     "metadata": {},
     "output_type": "execute_result"
    }
   ],
   "source": [
    "second_highest_digit(\"4343434\")"
   ]
  },
  {
   "cell_type": "code",
   "execution_count": 260,
   "metadata": {},
   "outputs": [],
   "source": [
    "def flr(input):\n",
    "\n",
    "    dir = [\"L\", \"U\", \"R\", \"D\"]\n",
    "    point = [0,0,\"neutral\"]\n",
    "    length = 11\n",
    "    a = [point]*length\n",
    "    for x in range(0,length):\n",
    "        point = [x-5, dir]\n",
    "        a[x] = point\n",
    "    print(a)\n",
    "    start = a[5]\n",
    "    print(start[1])\n",
    "    for c in input:\n",
    "        if c == \"R\":\n",
    "            start[1] = \"R\"\n",
    "        if c == \"L\":\n",
    "            start[1] = \"L\"\n",
    "        if c == \"F\":\n",
    "            \n",
    "            \n",
    "            \n",
    "    print(start)\n",
    "      \n",
    "        "
   ]
  },
  {
   "cell_type": "code",
   "execution_count": 261,
   "metadata": {},
   "outputs": [
    {
     "name": "stdout",
     "output_type": "stream",
     "text": [
      "[[-5, ['L', 'U', 'R', 'D']], [-4, ['L', 'U', 'R', 'D']], [-3, ['L', 'U', 'R', 'D']], [-2, ['L', 'U', 'R', 'D']], [-1, ['L', 'U', 'R', 'D']], [0, ['L', 'U', 'R', 'D']], [1, ['L', 'U', 'R', 'D']], [2, ['L', 'U', 'R', 'D']], [3, ['L', 'U', 'R', 'D']], [4, ['L', 'U', 'R', 'D']], [5, ['L', 'U', 'R', 'D']]]\n",
      "['L', 'U', 'R', 'D']\n",
      "[0, 'R']\n"
     ]
    }
   ],
   "source": [
    "flr(\"RBG\")"
   ]
  },
  {
   "cell_type": "code",
   "execution_count": null,
   "metadata": {},
   "outputs": [],
   "source": []
  },
  {
   "cell_type": "code",
   "execution_count": null,
   "metadata": {},
   "outputs": [],
   "source": []
  }
 ],
 "metadata": {
  "kernelspec": {
   "display_name": "Python 3",
   "language": "python",
   "name": "python3"
  },
  "language_info": {
   "codemirror_mode": {
    "name": "ipython",
    "version": 3
   },
   "file_extension": ".py",
   "mimetype": "text/x-python",
   "name": "python",
   "nbconvert_exporter": "python",
   "pygments_lexer": "ipython3",
   "version": "3.7.3"
  }
 },
 "nbformat": 4,
 "nbformat_minor": 2
}
