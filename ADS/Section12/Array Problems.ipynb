{
 "cells": [
  {
   "cell_type": "markdown",
   "metadata": {},
   "source": [
    "# Array interview problems"
   ]
  },
  {
   "cell_type": "markdown",
   "metadata": {},
   "source": [
    "## Anagram "
   ]
  },
  {
   "cell_type": "markdown",
   "metadata": {},
   "source": [
    "#given 2 strings, check to see if they are anagrams (ignoring spaces and capitals)\n"
   ]
  },
  {
   "cell_type": "code",
   "execution_count": 144,
   "metadata": {},
   "outputs": [],
   "source": [
    "def isAnagram(word1, word2):\n",
    "    word1 = word1.replace(\" \",\"\").lower()\n",
    "    word2 = word2.replace(\" \",\"\").lower()\n",
    "    print(word1, word2)\n",
    "    if len(word1) != len(word2):\n",
    "        return False\n",
    "    charBank1 = {}\n",
    "    charBank2 = {}\n",
    "    for i in word1:\n",
    "        if i in charBank1:\n",
    "            charBank1[i]+=1\n",
    "        else:\n",
    "            charBank1[i]=1\n",
    "    for i in word2:\n",
    "        if i in charBank2:\n",
    "            charBank2[i]+=1\n",
    "        else:\n",
    "            charBank2[i]=1\n",
    "    \n",
    "    if charBank1 == charBank2:\n",
    "        return True\n",
    "    else:\n",
    "        return False\n",
    "    \n",
    "    #another way would be to use one charBank, and for word2 iteration, \n",
    "    #if char exists then charBank1[i] -=1.\n",
    "    #if char does not exist then you can return False\n",
    "    #at the end all of charBank1.values should be 0.\n",
    "    print(charBank1)\n",
    "    print(charBank2)\n",
    "    \n",
    "#     print(word1)\n",
    "#     print(word2)"
   ]
  },
  {
   "cell_type": "code",
   "execution_count": 143,
   "metadata": {},
   "outputs": [
    {
     "name": "stdout",
     "output_type": "stream",
     "text": [
      "johnnydepp penphonydj\n"
     ]
    },
    {
     "data": {
      "text/plain": [
       "True"
      ]
     },
     "execution_count": 143,
     "metadata": {},
     "output_type": "execute_result"
    }
   ],
   "source": [
    "isAnagram(\"Johnny Depp\", \"Pen phony DJ\")\n"
   ]
  },
  {
   "cell_type": "code",
   "execution_count": 78,
   "metadata": {},
   "outputs": [
    {
     "name": "stdout",
     "output_type": "stream",
     "text": [
      "{'A': 2, 'B': 0, 'C': 3}\n"
     ]
    }
   ],
   "source": [
    "Dict = {'A': 2, 'B':0, 'C': 3}\n",
    "print(Dict)"
   ]
  },
  {
   "cell_type": "code",
   "execution_count": 85,
   "metadata": {},
   "outputs": [
    {
     "name": "stdout",
     "output_type": "stream",
     "text": [
      "2\n",
      "0\n",
      "3\n"
     ]
    }
   ],
   "source": [
    "for i in Dict:\n",
    "    print(Dict[i])"
   ]
  },
  {
   "cell_type": "code",
   "execution_count": 91,
   "metadata": {},
   "outputs": [
    {
     "name": "stdout",
     "output_type": "stream",
     "text": [
      "ooh\n"
     ]
    }
   ],
   "source": [
    "if 'D' in Dict:\n",
    "    print(\"ooh\")\n",
    "else:\n",
    "    Dict['D'] = 1"
   ]
  },
  {
   "cell_type": "code",
   "execution_count": 92,
   "metadata": {},
   "outputs": [
    {
     "name": "stdout",
     "output_type": "stream",
     "text": [
      "{'A': 2, 'B': 0, 'C': 3, 'D': 1}\n"
     ]
    }
   ],
   "source": [
    "print(Dict)"
   ]
  },
  {
   "cell_type": "code",
   "execution_count": 99,
   "metadata": {},
   "outputs": [],
   "source": [
    "Deects = {'B': 1, 'A':2, 'C': 3, 'D': 1}"
   ]
  },
  {
   "cell_type": "code",
   "execution_count": 100,
   "metadata": {},
   "outputs": [
    {
     "name": "stdout",
     "output_type": "stream",
     "text": [
      "False\n"
     ]
    }
   ],
   "source": [
    "print(Dict==Deects)"
   ]
  },
  {
   "cell_type": "code",
   "execution_count": 105,
   "metadata": {},
   "outputs": [],
   "source": [
    "Deects['B'] +=1"
   ]
  },
  {
   "cell_type": "code",
   "execution_count": 106,
   "metadata": {},
   "outputs": [
    {
     "name": "stdout",
     "output_type": "stream",
     "text": [
      "{'B': 2, 'A': 2, 'C': 3, 'D': 1}\n"
     ]
    }
   ],
   "source": [
    "print(Deects)"
   ]
  },
  {
   "cell_type": "code",
   "execution_count": 131,
   "metadata": {},
   "outputs": [],
   "source": [
    "Deects.update({'B': 4, 'E': 3})"
   ]
  },
  {
   "cell_type": "code",
   "execution_count": 132,
   "metadata": {},
   "outputs": [
    {
     "name": "stdout",
     "output_type": "stream",
     "text": [
      "{'B': 4, 'A': 2, 'C': 3, 'D': 1, 'E': 3}\n"
     ]
    }
   ],
   "source": [
    "print(Deects)"
   ]
  },
  {
   "cell_type": "markdown",
   "metadata": {},
   "source": [
    "## Array Pair Sum"
   ]
  },
  {
   "cell_type": "code",
   "execution_count": 192,
   "metadata": {},
   "outputs": [],
   "source": [
    "def pairSum(numArr, sum):\n",
    "    ourList = set()\n",
    "    for a1 in numArr:\n",
    "        a2 = sum- a1\n",
    "        if a2 in numArr:\n",
    "            ourList.add((min(a1,a2),max(a1,a2)))\n",
    "    return len(ourList)\n",
    "        "
   ]
  },
  {
   "cell_type": "code",
   "execution_count": 193,
   "metadata": {},
   "outputs": [
    {
     "data": {
      "text/plain": [
       "2"
      ]
     },
     "execution_count": 193,
     "metadata": {},
     "output_type": "execute_result"
    }
   ],
   "source": [
    "pairSum([1,3,2,2,2,1,3],4)\n"
   ]
  },
  {
   "cell_type": "code",
   "execution_count": null,
   "metadata": {},
   "outputs": [],
   "source": []
  },
  {
   "cell_type": "code",
   "execution_count": 194,
   "metadata": {},
   "outputs": [
    {
     "name": "stdout",
     "output_type": "stream",
     "text": [
      "{2, 3, 200, 201, 43, 11, (2, 5), (2, 4)}\n",
      "{2, 3, 7, 200, 201, 9, 43, 11, 8, 54, 22, (2, 5), (2, 4)}\n",
      "{7, 200, 201, 9, 43, 11, 8, 54, 22, (2, 5), (2, 4)}\n"
     ]
    }
   ],
   "source": [
    "#sets are very useful for comparisons. like a list but without duplicates.\n",
    "#lol = set()  -------- can't do lol={} because that's a dictionary\n",
    "#to look for something - O(n) in list; O(1) in set\n",
    "lol = {11,43}\n",
    "lol.add( (min(2,5), max(2,5)))\n",
    "lol.add(3)\n",
    "lol.add(2)\n",
    "lol.add(200)\n",
    "lol.add((2,4))\n",
    "lol.add((2,4))\n",
    "lol.add(201)\n",
    "print(lol)\n",
    "lol.update([9,7,8])\n",
    "lols = {9, 22, 54}\n",
    "lol.update(lols)\n",
    "print(lol)\n",
    "lol.discard(2)\n",
    "lol.remove(3) #if num not there then throws an error\n",
    "print(lol)"
   ]
  },
  {
   "cell_type": "code",
   "execution_count": 195,
   "metadata": {},
   "outputs": [
    {
     "name": "stdout",
     "output_type": "stream",
     "text": [
      "{3}\n",
      "{1} {4} {1, 4}\n",
      "[1, 2, 3, 4, 5]\n"
     ]
    }
   ],
   "source": [
    "a = {1,2,3}\n",
    "b = {2,3,4}\n",
    "c = {3,4,5}\n",
    "\n",
    "d = a.intersection(b,c) #and\n",
    "print(d)\n",
    "\n",
    "e = a.difference(b) #what's in a and not b \n",
    "f = b.difference(a)\n",
    "g = a.symmetric_difference(b)\n",
    "print(e,f,g)\n",
    "\n",
    "#remove duplicates from list\n",
    "lista = [1,2,3,4,5,5,2]\n",
    "listb = list(set(lista))\n",
    "print(listb)"
   ]
  },
  {
   "cell_type": "code",
   "execution_count": null,
   "metadata": {},
   "outputs": [],
   "source": []
  },
  {
   "cell_type": "markdown",
   "metadata": {},
   "source": [
    "## Missing Element\n"
   ]
  },
  {
   "cell_type": "code",
   "execution_count": null,
   "metadata": {},
   "outputs": [],
   "source": [
    "def missing(arra, arrb):\n",
    "    "
   ]
  },
  {
   "cell_type": "code",
   "execution_count": null,
   "metadata": {},
   "outputs": [],
   "source": [
    "missing([5,5,7,7],[5,7,7])"
   ]
  }
 ],
 "metadata": {
  "kernelspec": {
   "display_name": "Python 3",
   "language": "python",
   "name": "python3"
  },
  "language_info": {
   "codemirror_mode": {
    "name": "ipython",
    "version": 3
   },
   "file_extension": ".py",
   "mimetype": "text/x-python",
   "name": "python",
   "nbconvert_exporter": "python",
   "pygments_lexer": "ipython3",
   "version": "3.7.3"
  }
 },
 "nbformat": 4,
 "nbformat_minor": 2
}
