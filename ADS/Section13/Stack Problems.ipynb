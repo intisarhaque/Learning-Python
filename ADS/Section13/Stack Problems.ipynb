{
 "cells": [
  {
   "cell_type": "markdown",
   "metadata": {},
   "source": [
    "# Stack Problems"
   ]
  },
  {
   "cell_type": "markdown",
   "metadata": {},
   "source": [
    "## Balanced Parantheses"
   ]
  },
  {
   "cell_type": "code",
   "execution_count": 43,
   "metadata": {},
   "outputs": [],
   "source": [
    "class Deque(object):\n",
    "    def __init__(self):\n",
    "        self.items = []\n",
    "    def isEmpty(self):\n",
    "        return self.items==[]\n",
    "    def addFront(self, item):\n",
    "        self.items.append(item)\n",
    "    def addRear(self, item):\n",
    "        self.items.insert(0, item)\n",
    "    def removeFront(self):\n",
    "        return self.items.pop()\n",
    "    def removeRear(self):\n",
    "        return self.items.pop(0)\n",
    "    def size(self):\n",
    "        return len(self.items)"
   ]
  },
  {
   "cell_type": "code",
   "execution_count": 87,
   "metadata": {},
   "outputs": [],
   "source": [
    "def balanced_check(s):\n",
    "    brackets = {\"(\": \")\", \"{\": \"}\", \"[\": \"]\"}\n",
    "    print(brackets)\n",
    "    leng = len(s)\n",
    "    if leng%2 != 0 or leng==0:\n",
    "        return False\n",
    "    checker = Deque()\n",
    "    for char in s:\n",
    "        checker.addFront(char)\n",
    "    print(\"hmm\")\n",
    "    print(checker.size())\n",
    "    while checker.size() != 0:\n",
    "        a = checker.removeFront()\n",
    "        b = checker.removeRear()\n",
    "        if b not in brackets.keys() or a not in brackets.values():\n",
    "            return False\n",
    "        if a==brackets.get(b):\n",
    "            continue\n",
    "        else:\n",
    "            return False\n",
    "    print(checker.size())\n",
    "    return True\n",
    "    "
   ]
  },
  {
   "cell_type": "code",
   "execution_count": 89,
   "metadata": {},
   "outputs": [
    {
     "name": "stdout",
     "output_type": "stream",
     "text": [
      "{'(': ')', '{': '}', '[': ']'}\n",
      "hmm\n",
      "2\n",
      "0\n"
     ]
    },
    {
     "data": {
      "text/plain": [
       "True"
      ]
     },
     "execution_count": 89,
     "metadata": {},
     "output_type": "execute_result"
    }
   ],
   "source": [
    "balanced_check(\"[]\")"
   ]
  },
  {
   "cell_type": "code",
   "execution_count": null,
   "metadata": {},
   "outputs": [],
   "source": []
  },
  {
   "cell_type": "code",
   "execution_count": null,
   "metadata": {},
   "outputs": [],
   "source": []
  }
 ],
 "metadata": {
  "kernelspec": {
   "display_name": "Python 2",
   "language": "python",
   "name": "python2"
  },
  "language_info": {
   "codemirror_mode": {
    "name": "ipython",
    "version": 2
   },
   "file_extension": ".py",
   "mimetype": "text/x-python",
   "name": "python",
   "nbconvert_exporter": "python",
   "pygments_lexer": "ipython2",
   "version": "2.7.16"
  }
 },
 "nbformat": 4,
 "nbformat_minor": 2
}
